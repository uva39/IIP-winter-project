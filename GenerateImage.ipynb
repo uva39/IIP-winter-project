{
 "cells": [
  {
   "attachments": {},
   "cell_type": "markdown",
   "metadata": {},
   "source": [
    "## Import"
   ]
  },
  {
   "cell_type": "code",
   "execution_count": 1,
   "metadata": {},
   "outputs": [],
   "source": [
    "import pandas as pd\n",
    "import numpy as np\n",
    "import random\n",
    "from datetime import datetime\n",
    "\n",
    "import selenium\n",
    "from selenium import webdriver\n",
    "from selenium.webdriver import ActionChains\n",
    "\n",
    "from selenium.webdriver.common.keys import Keys\n",
    "from selenium.webdriver.common.by import By\n",
    "\n",
    "from selenium.webdriver.support import expected_conditions as EC\n",
    "from selenium.webdriver.support.ui import Select\n",
    "from selenium.webdriver.support.ui import WebDriverWait"
   ]
  },
  {
   "cell_type": "code",
   "execution_count": 3,
   "metadata": {},
   "outputs": [
    {
     "data": {
      "text/plain": [
       "'2023-01-14 13:01'"
      ]
     },
     "execution_count": 3,
     "metadata": {},
     "output_type": "execute_result"
    }
   ],
   "source": [
    "# 커밋 날짜 자동설정\n",
    "date = datetime.now().strftime(\"%Y-%m-%d %H:%M\")\n",
    "date"
   ]
  },
  {
   "attachments": {},
   "cell_type": "markdown",
   "metadata": {},
   "source": [
    "## Tag Setting"
   ]
  },
  {
   "cell_type": "code",
   "execution_count": 4,
   "metadata": {},
   "outputs": [],
   "source": [
    "taglist = pd.read_csv('TagList.csv')\n",
    "taglist.fillna(0, inplace=True)\n",
    "\n",
    "\n",
    "# man = ['a girl']\n",
    "# hairColor = ['white', 'brown', 'red', 'pink', 'orange', 'yellow', 'Blonde', 'light green', 'green', 'sky blue', 'blue', 'purple', 'black', 'gray', 'golden']\n",
    "# eyeColor = ['white', 'brown', 'red', 'pink', 'orange', 'yellow', 'Blonde', 'light green', 'green', 'sky blue', 'blue', 'purple', 'black', 'gray', 'golden']\n",
    "# background = ['whiteground']\n",
    "# dress = ['school uniform']\n",
    "# bodyType = ['midium breast']\n",
    "# others = ['sweat', 'blush', 'glittering', 'smoking', 'robot']\n",
    "# tagLists = [man, hairColor, eyeColor, background, dress, bodyType, others]"
   ]
  },
  {
   "cell_type": "code",
   "execution_count": 5,
   "metadata": {},
   "outputs": [
    {
     "data": {
      "text/html": [
       "<div>\n",
       "<style scoped>\n",
       "    .dataframe tbody tr th:only-of-type {\n",
       "        vertical-align: middle;\n",
       "    }\n",
       "\n",
       "    .dataframe tbody tr th {\n",
       "        vertical-align: top;\n",
       "    }\n",
       "\n",
       "    .dataframe thead th {\n",
       "        text-align: right;\n",
       "    }\n",
       "</style>\n",
       "<table border=\"1\" class=\"dataframe\">\n",
       "  <thead>\n",
       "    <tr style=\"text-align: right;\">\n",
       "      <th></th>\n",
       "      <th>man</th>\n",
       "      <th>hair color</th>\n",
       "      <th>eye color</th>\n",
       "      <th>background</th>\n",
       "      <th>dress</th>\n",
       "      <th>body type</th>\n",
       "      <th>others</th>\n",
       "    </tr>\n",
       "  </thead>\n",
       "  <tbody>\n",
       "    <tr>\n",
       "      <th>0</th>\n",
       "      <td>a girl</td>\n",
       "      <td>white</td>\n",
       "      <td>white</td>\n",
       "      <td>white background</td>\n",
       "      <td>NaN</td>\n",
       "      <td>NaN</td>\n",
       "      <td>NaN</td>\n",
       "    </tr>\n",
       "    <tr>\n",
       "      <th>1</th>\n",
       "      <td>NaN</td>\n",
       "      <td>brown</td>\n",
       "      <td>brown</td>\n",
       "      <td>brown background</td>\n",
       "      <td>NaN</td>\n",
       "      <td>NaN</td>\n",
       "      <td>NaN</td>\n",
       "    </tr>\n",
       "    <tr>\n",
       "      <th>2</th>\n",
       "      <td>NaN</td>\n",
       "      <td>red</td>\n",
       "      <td>red</td>\n",
       "      <td>red background</td>\n",
       "      <td>NaN</td>\n",
       "      <td>NaN</td>\n",
       "      <td>NaN</td>\n",
       "    </tr>\n",
       "    <tr>\n",
       "      <th>3</th>\n",
       "      <td>NaN</td>\n",
       "      <td>pink</td>\n",
       "      <td>pink</td>\n",
       "      <td>pink background</td>\n",
       "      <td>NaN</td>\n",
       "      <td>NaN</td>\n",
       "      <td>NaN</td>\n",
       "    </tr>\n",
       "    <tr>\n",
       "      <th>4</th>\n",
       "      <td>NaN</td>\n",
       "      <td>orange</td>\n",
       "      <td>orange</td>\n",
       "      <td>orange background</td>\n",
       "      <td>NaN</td>\n",
       "      <td>NaN</td>\n",
       "      <td>NaN</td>\n",
       "    </tr>\n",
       "    <tr>\n",
       "      <th>5</th>\n",
       "      <td>NaN</td>\n",
       "      <td>yellow</td>\n",
       "      <td>yellow</td>\n",
       "      <td>yellow background</td>\n",
       "      <td>NaN</td>\n",
       "      <td>NaN</td>\n",
       "      <td>NaN</td>\n",
       "    </tr>\n",
       "    <tr>\n",
       "      <th>6</th>\n",
       "      <td>NaN</td>\n",
       "      <td>Blonde</td>\n",
       "      <td>light green</td>\n",
       "      <td>light green background</td>\n",
       "      <td>NaN</td>\n",
       "      <td>NaN</td>\n",
       "      <td>NaN</td>\n",
       "    </tr>\n",
       "    <tr>\n",
       "      <th>7</th>\n",
       "      <td>NaN</td>\n",
       "      <td>light green</td>\n",
       "      <td>green</td>\n",
       "      <td>green background</td>\n",
       "      <td>NaN</td>\n",
       "      <td>NaN</td>\n",
       "      <td>NaN</td>\n",
       "    </tr>\n",
       "    <tr>\n",
       "      <th>8</th>\n",
       "      <td>NaN</td>\n",
       "      <td>green</td>\n",
       "      <td>sky blue</td>\n",
       "      <td>sky blue background</td>\n",
       "      <td>NaN</td>\n",
       "      <td>NaN</td>\n",
       "      <td>NaN</td>\n",
       "    </tr>\n",
       "    <tr>\n",
       "      <th>9</th>\n",
       "      <td>NaN</td>\n",
       "      <td>sky blue</td>\n",
       "      <td>blue</td>\n",
       "      <td>blue background</td>\n",
       "      <td>NaN</td>\n",
       "      <td>NaN</td>\n",
       "      <td>NaN</td>\n",
       "    </tr>\n",
       "    <tr>\n",
       "      <th>10</th>\n",
       "      <td>NaN</td>\n",
       "      <td>blue</td>\n",
       "      <td>purple</td>\n",
       "      <td>purple background</td>\n",
       "      <td>NaN</td>\n",
       "      <td>NaN</td>\n",
       "      <td>NaN</td>\n",
       "    </tr>\n",
       "    <tr>\n",
       "      <th>11</th>\n",
       "      <td>NaN</td>\n",
       "      <td>purple</td>\n",
       "      <td>black</td>\n",
       "      <td>black background</td>\n",
       "      <td>NaN</td>\n",
       "      <td>NaN</td>\n",
       "      <td>NaN</td>\n",
       "    </tr>\n",
       "    <tr>\n",
       "      <th>12</th>\n",
       "      <td>NaN</td>\n",
       "      <td>black</td>\n",
       "      <td>gray</td>\n",
       "      <td>gray background</td>\n",
       "      <td>NaN</td>\n",
       "      <td>NaN</td>\n",
       "      <td>NaN</td>\n",
       "    </tr>\n",
       "    <tr>\n",
       "      <th>13</th>\n",
       "      <td>NaN</td>\n",
       "      <td>gray</td>\n",
       "      <td>golden</td>\n",
       "      <td>house</td>\n",
       "      <td>NaN</td>\n",
       "      <td>NaN</td>\n",
       "      <td>NaN</td>\n",
       "    </tr>\n",
       "    <tr>\n",
       "      <th>14</th>\n",
       "      <td>NaN</td>\n",
       "      <td>golden</td>\n",
       "      <td>NaN</td>\n",
       "      <td>NaN</td>\n",
       "      <td>NaN</td>\n",
       "      <td>NaN</td>\n",
       "      <td>NaN</td>\n",
       "    </tr>\n",
       "  </tbody>\n",
       "</table>\n",
       "</div>"
      ],
      "text/plain": [
       "       man   hair color     eye color               background  dress  \\\n",
       "0   a girl        white         white         white background    NaN   \n",
       "1      NaN        brown         brown         brown background    NaN   \n",
       "2      NaN          red           red           red background    NaN   \n",
       "3      NaN         pink          pink          pink background    NaN   \n",
       "4      NaN       orange        orange        orange background    NaN   \n",
       "5      NaN       yellow        yellow        yellow background    NaN   \n",
       "6      NaN       Blonde   light green   light green background    NaN   \n",
       "7      NaN  light green         green         green background    NaN   \n",
       "8      NaN        green      sky blue      sky blue background    NaN   \n",
       "9      NaN     sky blue          blue          blue background    NaN   \n",
       "10     NaN         blue        purple        purple background    NaN   \n",
       "11     NaN       purple         black         black background    NaN   \n",
       "12     NaN        black          gray          gray background    NaN   \n",
       "13     NaN         gray        golden                    house    NaN   \n",
       "14     NaN       golden           NaN                      NaN    NaN   \n",
       "\n",
       "    body type  others  \n",
       "0         NaN     NaN  \n",
       "1         NaN     NaN  \n",
       "2         NaN     NaN  \n",
       "3         NaN     NaN  \n",
       "4         NaN     NaN  \n",
       "5         NaN     NaN  \n",
       "6         NaN     NaN  \n",
       "7         NaN     NaN  \n",
       "8         NaN     NaN  \n",
       "9         NaN     NaN  \n",
       "10        NaN     NaN  \n",
       "11        NaN     NaN  \n",
       "12        NaN     NaN  \n",
       "13        NaN     NaN  \n",
       "14        NaN     NaN  "
      ]
     },
     "execution_count": 5,
     "metadata": {},
     "output_type": "execute_result"
    }
   ],
   "source": [
    "taglist"
   ]
  },
  {
   "attachments": {},
   "cell_type": "markdown",
   "metadata": {},
   "source": [
    "일단은 6가지의 대표적인 특징을 선택함   \n",
    "사람은 여자만 있는 걸로. Novel AI에 학습된 남자 데이터는 보통 게이(...) 그림이 많아서 학습이 어려움   \n",
    "머리 색, 눈동자 색은 적당한 색깔로 설정한 다음, 결과를 보며 수정할 생각   \n",
    "배경, 의상, 체형은 가짓수가 많아서 내가 직접 보기에 괜찮은 것만 추려서 넣음   \n",
    "중첩 가능한 태그인 others도 마찬가지."
   ]
  },
  {
   "attachments": {},
   "cell_type": "markdown",
   "metadata": {},
   "source": [
    "## Make Tag"
   ]
  },
  {
   "cell_type": "code",
   "execution_count": 8,
   "metadata": {},
   "outputs": [],
   "source": [
    "tagLength = 10\n",
    "def get_tag(tagLength=tagLength, tagLists=taglist) -> str:\n",
    "    '''\n",
    "    태그 모음에서 랜덤하게 태그를 뽑아 태그 조합을 생성하는 함수입니다. \n",
    "    tagLength는 태그의 개수입니다.\n",
    "    tagLength에서 others를 제외한 범주의 개수를 뺀 만큼이 중첩 가능한 태그의 개수입니다.\n",
    "    masterpiece, best quality는 무조건 포함됩니다.\n",
    "    '''\n",
    "\n",
    "    result = 'masterpiece, best quality, '\n",
    "    # 중첩 불가능한 태그 뽑기\n",
    "    for i in range(len(tagLists) - 1):\n",
    "        result += random.choice(tagLists[i]) + ', '\n",
    "\n",
    "    # 중첩 가능한 태그 뽑기\n",
    "    used = []\n",
    "    for i in range(tagLength - len(tagLists) + 1):\n",
    "        while True:\n",
    "            tag = random.choice(tagLists[-1])\n",
    "            if tag not in used:\n",
    "                used.append(tag)\n",
    "                break\n",
    "        result += tag + ', '\n",
    "    result = result[:-2]\n",
    "    \n",
    "    return result"
   ]
  },
  {
   "attachments": {},
   "cell_type": "markdown",
   "metadata": {},
   "source": [
    "## Get Image"
   ]
  },
  {
   "cell_type": "code",
   "execution_count": 10,
   "metadata": {},
   "outputs": [
    {
     "name": "stderr",
     "output_type": "stream",
     "text": [
      "C:\\Users\\36dav\\AppData\\Local\\Temp\\ipykernel_21032\\2506742529.py:2: DeprecationWarning: executable_path has been deprecated, please pass in a Service object\n",
      "  driver = webdriver.Edge(executable_path='msedgedriver.exe')\n"
     ]
    }
   ],
   "source": [
    "URL = 'http://127.0.0.1:7860'\n",
    "driver = webdriver.Edge(executable_path='msedgedriver.exe')\n",
    "driver.get(url=URL)\n",
    "\n",
    "# Novel AI 이외의 모델을 사용하려면\n",
    "# 모델을 선택한 뒤 다음 셀 실행"
   ]
  },
  {
   "cell_type": "code",
   "execution_count": 12,
   "metadata": {},
   "outputs": [
    {
     "ename": "NoSuchElementException",
     "evalue": "Message: no such element: Unable to locate element: {\"method\":\"xpath\",\"selector\":\"//*[@id=\"setting_sd_model_checkpoint\"]/label/select/option[1]\"}\n  (Session info: MicrosoftEdge=108.0.1462.76)\nStacktrace:\nBacktrace:\n\tMicrosoft::Applications::Events::EventProperties::SetProperty [0x00007FF667DF91D2+14306]\n\tMicrosoft::Applications::Events::EventProperty::EventProperty [0x00007FF667D80992+842866]\n\t(No symbol) [0x00007FF667A31D90]\n\t(No symbol) [0x00007FF667A75928]\n\t(No symbol) [0x00007FF667A75C10]\n\t(No symbol) [0x00007FF667AB2507]\n\t(No symbol) [0x00007FF667A95D6F]\n\t(No symbol) [0x00007FF667A6836E]\n\t(No symbol) [0x00007FF667AAF70C]\n\t(No symbol) [0x00007FF667A95B03]\n\t(No symbol) [0x00007FF667A673B8]\n\t(No symbol) [0x00007FF667A6638E]\n\t(No symbol) [0x00007FF667A67AE4]\n\tMicrosoft::Applications::Events::EventProperty::EventProperty [0x00007FF667CCFE18+119032]\n\tMicrosoft::Applications::Events::EventProperty::EventProperty [0x00007FF667CBD4D6+42934]\n\tMicrosoft::Applications::Events::EventProperty::EventProperty [0x00007FF667CC06EC+55756]\n\t(No symbol) [0x00007FF667B37923]\n\tMicrosoft::Applications::Events::EventProperty::EventProperty [0x00007FF667D8844A+874282]\n\tMicrosoft::Applications::Events::EventProperty::EventProperty [0x00007FF667D8D544+895012]\n\tMicrosoft::Applications::Events::EventProperty::EventProperty [0x00007FF667D8D69C+895356]\n\tMicrosoft::Applications::Events::EventProperty::EventProperty [0x00007FF667D967BE+932510]\n\tBaseThreadInitThunk [0x00007FF973143D2D+29]\n\tRtlUserThreadStart [0x00007FF9749DD838+40]\n",
     "output_type": "error",
     "traceback": [
      "\u001b[1;31m---------------------------------------------------------------------------\u001b[0m",
      "\u001b[1;31mNoSuchElementException\u001b[0m                    Traceback (most recent call last)",
      "Cell \u001b[1;32mIn [12], line 1\u001b[0m\n\u001b[1;32m----> 1\u001b[0m selectNAI \u001b[39m=\u001b[39m driver\u001b[39m.\u001b[39mfind_element(By\u001b[39m.\u001b[39mXPATH, \u001b[39m'\u001b[39m\u001b[39m//*[@id=\u001b[39m\u001b[39m\"\u001b[39m\u001b[39msetting_sd_model_checkpoint\u001b[39m\u001b[39m\"\u001b[39m\u001b[39m]/label/select/option[1]\u001b[39m\u001b[39m'\u001b[39m)\n\u001b[0;32m      2\u001b[0m selectNAI\u001b[39m.\u001b[39mclick()\n",
      "File \u001b[1;32mc:\\Users\\36dav\\AppData\\Local\\Programs\\Python\\Python310\\lib\\site-packages\\selenium\\webdriver\\remote\\webdriver.py:861\u001b[0m, in \u001b[0;36mWebDriver.find_element\u001b[1;34m(self, by, value)\u001b[0m\n\u001b[0;32m    858\u001b[0m     by \u001b[39m=\u001b[39m By\u001b[39m.\u001b[39mCSS_SELECTOR\n\u001b[0;32m    859\u001b[0m     value \u001b[39m=\u001b[39m \u001b[39m'\u001b[39m\u001b[39m[name=\u001b[39m\u001b[39m\"\u001b[39m\u001b[39m%s\u001b[39;00m\u001b[39m\"\u001b[39m\u001b[39m]\u001b[39m\u001b[39m'\u001b[39m \u001b[39m%\u001b[39m value\n\u001b[1;32m--> 861\u001b[0m \u001b[39mreturn\u001b[39;00m \u001b[39mself\u001b[39;49m\u001b[39m.\u001b[39;49mexecute(Command\u001b[39m.\u001b[39;49mFIND_ELEMENT, {\u001b[39m\"\u001b[39;49m\u001b[39musing\u001b[39;49m\u001b[39m\"\u001b[39;49m: by, \u001b[39m\"\u001b[39;49m\u001b[39mvalue\u001b[39;49m\u001b[39m\"\u001b[39;49m: value})[\u001b[39m\"\u001b[39m\u001b[39mvalue\u001b[39m\u001b[39m\"\u001b[39m]\n",
      "File \u001b[1;32mc:\\Users\\36dav\\AppData\\Local\\Programs\\Python\\Python310\\lib\\site-packages\\selenium\\webdriver\\remote\\webdriver.py:444\u001b[0m, in \u001b[0;36mWebDriver.execute\u001b[1;34m(self, driver_command, params)\u001b[0m\n\u001b[0;32m    442\u001b[0m response \u001b[39m=\u001b[39m \u001b[39mself\u001b[39m\u001b[39m.\u001b[39mcommand_executor\u001b[39m.\u001b[39mexecute(driver_command, params)\n\u001b[0;32m    443\u001b[0m \u001b[39mif\u001b[39;00m response:\n\u001b[1;32m--> 444\u001b[0m     \u001b[39mself\u001b[39;49m\u001b[39m.\u001b[39;49merror_handler\u001b[39m.\u001b[39;49mcheck_response(response)\n\u001b[0;32m    445\u001b[0m     response[\u001b[39m\"\u001b[39m\u001b[39mvalue\u001b[39m\u001b[39m\"\u001b[39m] \u001b[39m=\u001b[39m \u001b[39mself\u001b[39m\u001b[39m.\u001b[39m_unwrap_value(response\u001b[39m.\u001b[39mget(\u001b[39m\"\u001b[39m\u001b[39mvalue\u001b[39m\u001b[39m\"\u001b[39m, \u001b[39mNone\u001b[39;00m))\n\u001b[0;32m    446\u001b[0m     \u001b[39mreturn\u001b[39;00m response\n",
      "File \u001b[1;32mc:\\Users\\36dav\\AppData\\Local\\Programs\\Python\\Python310\\lib\\site-packages\\selenium\\webdriver\\remote\\errorhandler.py:249\u001b[0m, in \u001b[0;36mErrorHandler.check_response\u001b[1;34m(self, response)\u001b[0m\n\u001b[0;32m    247\u001b[0m         alert_text \u001b[39m=\u001b[39m value[\u001b[39m\"\u001b[39m\u001b[39malert\u001b[39m\u001b[39m\"\u001b[39m]\u001b[39m.\u001b[39mget(\u001b[39m\"\u001b[39m\u001b[39mtext\u001b[39m\u001b[39m\"\u001b[39m)\n\u001b[0;32m    248\u001b[0m     \u001b[39mraise\u001b[39;00m exception_class(message, screen, stacktrace, alert_text)  \u001b[39m# type: ignore[call-arg]  # mypy is not smart enough here\u001b[39;00m\n\u001b[1;32m--> 249\u001b[0m \u001b[39mraise\u001b[39;00m exception_class(message, screen, stacktrace)\n",
      "\u001b[1;31mNoSuchElementException\u001b[0m: Message: no such element: Unable to locate element: {\"method\":\"xpath\",\"selector\":\"//*[@id=\"setting_sd_model_checkpoint\"]/label/select/option[1]\"}\n  (Session info: MicrosoftEdge=108.0.1462.76)\nStacktrace:\nBacktrace:\n\tMicrosoft::Applications::Events::EventProperties::SetProperty [0x00007FF667DF91D2+14306]\n\tMicrosoft::Applications::Events::EventProperty::EventProperty [0x00007FF667D80992+842866]\n\t(No symbol) [0x00007FF667A31D90]\n\t(No symbol) [0x00007FF667A75928]\n\t(No symbol) [0x00007FF667A75C10]\n\t(No symbol) [0x00007FF667AB2507]\n\t(No symbol) [0x00007FF667A95D6F]\n\t(No symbol) [0x00007FF667A6836E]\n\t(No symbol) [0x00007FF667AAF70C]\n\t(No symbol) [0x00007FF667A95B03]\n\t(No symbol) [0x00007FF667A673B8]\n\t(No symbol) [0x00007FF667A6638E]\n\t(No symbol) [0x00007FF667A67AE4]\n\tMicrosoft::Applications::Events::EventProperty::EventProperty [0x00007FF667CCFE18+119032]\n\tMicrosoft::Applications::Events::EventProperty::EventProperty [0x00007FF667CBD4D6+42934]\n\tMicrosoft::Applications::Events::EventProperty::EventProperty [0x00007FF667CC06EC+55756]\n\t(No symbol) [0x00007FF667B37923]\n\tMicrosoft::Applications::Events::EventProperty::EventProperty [0x00007FF667D8844A+874282]\n\tMicrosoft::Applications::Events::EventProperty::EventProperty [0x00007FF667D8D544+895012]\n\tMicrosoft::Applications::Events::EventProperty::EventProperty [0x00007FF667D8D69C+895356]\n\tMicrosoft::Applications::Events::EventProperty::EventProperty [0x00007FF667D967BE+932510]\n\tBaseThreadInitThunk [0x00007FF973143D2D+29]\n\tRtlUserThreadStart [0x00007FF9749DD838+40]\n"
     ]
    }
   ],
   "source": [
    "element = WebDriverWait(driver, 10).until(\n",
    "    EC.presence_of_element_located((By.CSS_SELECTOR, '#my-element'))\n",
    ")\n",
    "\n",
    "buttonGen = driver.find_element(By.CSS_SELECTOR,\n",
    "    'button#txt2img_generate.gr-button.gr-button-lg.gr-button-primary')\n"
   ]
  },
  {
   "cell_type": "code",
   "execution_count": 13,
   "metadata": {},
   "outputs": [],
   "source": [
    "driver.close()"
   ]
  }
 ],
 "metadata": {
  "kernelspec": {
   "display_name": "Python 3",
   "language": "python",
   "name": "python3"
  },
  "language_info": {
   "codemirror_mode": {
    "name": "ipython",
    "version": 3
   },
   "file_extension": ".py",
   "mimetype": "text/x-python",
   "name": "python",
   "nbconvert_exporter": "python",
   "pygments_lexer": "ipython3",
   "version": "3.10.7 (tags/v3.10.7:6cc6b13, Sep  5 2022, 14:08:36) [MSC v.1933 64 bit (AMD64)]"
  },
  "orig_nbformat": 4,
  "vscode": {
   "interpreter": {
    "hash": "21296890ed30beda34826074664c572761cdb09121e335e8a6831529b6333bf5"
   }
  }
 },
 "nbformat": 4,
 "nbformat_minor": 2
}
